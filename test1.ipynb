{
 "cells": [
  {
   "cell_type": "code",
   "execution_count": 106,
   "metadata": {},
   "outputs": [],
   "source": [
    "#импорт библиотек\n",
    "import pandas as pd\n",
    "import numpy as np\n",
    "import random\n",
    "\n",
    "#визуализация\n",
    "import matplotlib.pyplot as plt"
   ]
  },
  {
   "cell_type": "code",
   "execution_count": 107,
   "metadata": {},
   "outputs": [],
   "source": [
    "#загружаем данные\n",
    "test = pd.read_csv('test_data.csv', delimiter=\",\") \n",
    "train = pd.read_csv('train_data.csv', delimiter=\",\")\n",
    "attrition = pd.read_csv('sampleSubmission.csv', delimiter=\",\") "
   ]
  },
  {
   "cell_type": "code",
   "execution_count": 108,
   "metadata": {
    "scrolled": true
   },
   "outputs": [
    {
     "data": {
      "text/html": [
       "<div>\n",
       "<style scoped>\n",
       "    .dataframe tbody tr th:only-of-type {\n",
       "        vertical-align: middle;\n",
       "    }\n",
       "\n",
       "    .dataframe tbody tr th {\n",
       "        vertical-align: top;\n",
       "    }\n",
       "\n",
       "    .dataframe thead th {\n",
       "        text-align: right;\n",
       "    }\n",
       "</style>\n",
       "<table border=\"1\" class=\"dataframe\">\n",
       "  <thead>\n",
       "    <tr style=\"text-align: right;\">\n",
       "      <th></th>\n",
       "      <th>Unnamed: 0</th>\n",
       "      <th>Age</th>\n",
       "      <th>BusinessTravel</th>\n",
       "      <th>Department</th>\n",
       "      <th>DistanceFromHome</th>\n",
       "      <th>Education</th>\n",
       "      <th>EducationField</th>\n",
       "      <th>Gender</th>\n",
       "      <th>JobRole</th>\n",
       "      <th>MaritalStatus</th>\n",
       "      <th>...</th>\n",
       "      <th>NumCompaniesWorked</th>\n",
       "      <th>PercentSalaryHike</th>\n",
       "      <th>StandardHours</th>\n",
       "      <th>StockOptionLevel</th>\n",
       "      <th>TotalWorkingYears</th>\n",
       "      <th>TrainingTimesLastYear</th>\n",
       "      <th>YearsAtCompany</th>\n",
       "      <th>YearsSinceLastPromotion</th>\n",
       "      <th>YearsWithCurrManager</th>\n",
       "      <th>Attrition</th>\n",
       "    </tr>\n",
       "  </thead>\n",
       "  <tbody>\n",
       "    <tr>\n",
       "      <th>0</th>\n",
       "      <td>0</td>\n",
       "      <td>40</td>\n",
       "      <td>Travel_Rarely</td>\n",
       "      <td>Research &amp; Development</td>\n",
       "      <td>2</td>\n",
       "      <td>3</td>\n",
       "      <td>Medical</td>\n",
       "      <td>Male</td>\n",
       "      <td>Research Director</td>\n",
       "      <td>Single</td>\n",
       "      <td>...</td>\n",
       "      <td>3.0</td>\n",
       "      <td>15</td>\n",
       "      <td>8</td>\n",
       "      <td>1</td>\n",
       "      <td>15.0</td>\n",
       "      <td>3</td>\n",
       "      <td>5</td>\n",
       "      <td>1</td>\n",
       "      <td>0</td>\n",
       "      <td>1</td>\n",
       "    </tr>\n",
       "    <tr>\n",
       "      <th>1</th>\n",
       "      <td>1</td>\n",
       "      <td>31</td>\n",
       "      <td>Travel_Rarely</td>\n",
       "      <td>Research &amp; Development</td>\n",
       "      <td>28</td>\n",
       "      <td>4</td>\n",
       "      <td>Technical Degree</td>\n",
       "      <td>Female</td>\n",
       "      <td>Sales Executive</td>\n",
       "      <td>Married</td>\n",
       "      <td>...</td>\n",
       "      <td>1.0</td>\n",
       "      <td>11</td>\n",
       "      <td>8</td>\n",
       "      <td>0</td>\n",
       "      <td>10.0</td>\n",
       "      <td>4</td>\n",
       "      <td>10</td>\n",
       "      <td>0</td>\n",
       "      <td>2</td>\n",
       "      <td>0</td>\n",
       "    </tr>\n",
       "    <tr>\n",
       "      <th>2</th>\n",
       "      <td>2</td>\n",
       "      <td>35</td>\n",
       "      <td>Travel_Frequently</td>\n",
       "      <td>Research &amp; Development</td>\n",
       "      <td>3</td>\n",
       "      <td>3</td>\n",
       "      <td>Medical</td>\n",
       "      <td>Female</td>\n",
       "      <td>Laboratory Technician</td>\n",
       "      <td>Married</td>\n",
       "      <td>...</td>\n",
       "      <td>1.0</td>\n",
       "      <td>11</td>\n",
       "      <td>8</td>\n",
       "      <td>1</td>\n",
       "      <td>2.0</td>\n",
       "      <td>2</td>\n",
       "      <td>2</td>\n",
       "      <td>2</td>\n",
       "      <td>2</td>\n",
       "      <td>0</td>\n",
       "    </tr>\n",
       "    <tr>\n",
       "      <th>3</th>\n",
       "      <td>3</td>\n",
       "      <td>33</td>\n",
       "      <td>Travel_Rarely</td>\n",
       "      <td>Research &amp; Development</td>\n",
       "      <td>2</td>\n",
       "      <td>2</td>\n",
       "      <td>Medical</td>\n",
       "      <td>Male</td>\n",
       "      <td>Sales Executive</td>\n",
       "      <td>Single</td>\n",
       "      <td>...</td>\n",
       "      <td>0.0</td>\n",
       "      <td>18</td>\n",
       "      <td>8</td>\n",
       "      <td>3</td>\n",
       "      <td>4.0</td>\n",
       "      <td>4</td>\n",
       "      <td>3</td>\n",
       "      <td>0</td>\n",
       "      <td>2</td>\n",
       "      <td>0</td>\n",
       "    </tr>\n",
       "    <tr>\n",
       "      <th>4</th>\n",
       "      <td>4</td>\n",
       "      <td>32</td>\n",
       "      <td>Travel_Rarely</td>\n",
       "      <td>Research &amp; Development</td>\n",
       "      <td>2</td>\n",
       "      <td>3</td>\n",
       "      <td>Medical</td>\n",
       "      <td>Male</td>\n",
       "      <td>Research Scientist</td>\n",
       "      <td>Married</td>\n",
       "      <td>...</td>\n",
       "      <td>1.0</td>\n",
       "      <td>13</td>\n",
       "      <td>8</td>\n",
       "      <td>0</td>\n",
       "      <td>8.0</td>\n",
       "      <td>0</td>\n",
       "      <td>8</td>\n",
       "      <td>0</td>\n",
       "      <td>7</td>\n",
       "      <td>0</td>\n",
       "    </tr>\n",
       "  </tbody>\n",
       "</table>\n",
       "<p>5 rows × 21 columns</p>\n",
       "</div>"
      ],
      "text/plain": [
       "   Unnamed: 0  Age     BusinessTravel              Department  \\\n",
       "0           0   40      Travel_Rarely  Research & Development   \n",
       "1           1   31      Travel_Rarely  Research & Development   \n",
       "2           2   35  Travel_Frequently  Research & Development   \n",
       "3           3   33      Travel_Rarely  Research & Development   \n",
       "4           4   32      Travel_Rarely  Research & Development   \n",
       "\n",
       "   DistanceFromHome  Education    EducationField  Gender  \\\n",
       "0                 2          3           Medical    Male   \n",
       "1                28          4  Technical Degree  Female   \n",
       "2                 3          3           Medical  Female   \n",
       "3                 2          2           Medical    Male   \n",
       "4                 2          3           Medical    Male   \n",
       "\n",
       "                 JobRole MaritalStatus  ...  NumCompaniesWorked  \\\n",
       "0      Research Director        Single  ...                 3.0   \n",
       "1        Sales Executive       Married  ...                 1.0   \n",
       "2  Laboratory Technician       Married  ...                 1.0   \n",
       "3        Sales Executive        Single  ...                 0.0   \n",
       "4     Research Scientist       Married  ...                 1.0   \n",
       "\n",
       "   PercentSalaryHike  StandardHours  StockOptionLevel  TotalWorkingYears  \\\n",
       "0                 15              8                 1               15.0   \n",
       "1                 11              8                 0               10.0   \n",
       "2                 11              8                 1                2.0   \n",
       "3                 18              8                 3                4.0   \n",
       "4                 13              8                 0                8.0   \n",
       "\n",
       "   TrainingTimesLastYear  YearsAtCompany  YearsSinceLastPromotion  \\\n",
       "0                      3               5                        1   \n",
       "1                      4              10                        0   \n",
       "2                      2               2                        2   \n",
       "3                      4               3                        0   \n",
       "4                      0               8                        0   \n",
       "\n",
       "   YearsWithCurrManager  Attrition  \n",
       "0                     0          1  \n",
       "1                     2          0  \n",
       "2                     2          0  \n",
       "3                     2          0  \n",
       "4                     7          0  \n",
       "\n",
       "[5 rows x 21 columns]"
      ]
     },
     "execution_count": 108,
     "metadata": {},
     "output_type": "execute_result"
    }
   ],
   "source": [
    "train.head()"
   ]
  },
  {
   "cell_type": "markdown",
   "metadata": {},
   "source": [
    "Параметры:<br>\n",
    "Age - возраст - числовое<br>\n",
    "BusinessTravel - бизнес-поездки - часто/редко/нет<br>\n",
    "Department - отдел - Исследования и разработки/Продажи/HR<br>\n",
    "DistanceFromHome - расстояние до дома - числовое<br>\n",
    "Education - образование - числа от 1 до 5<br>\n",
    "EducationField - область/специальность - Медицина/Маркетинг/...<br>\n",
    "Gender - пол - м/ж<br>\n",
    "JobRole - должность - Директор/лаборант/...<br>\n",
    "MaritalStatus - семейное положение - женат(замужем)/разведен/холост<br>\n",
    "MonthlyIncome - доход в месяц - числовое<br>\n",
    "NumCompaniesWorked - количество мест работы - числовое<br>\n",
    "PercentSalaryHike - повышение зарплаты в процентах - числовое<br>\n",
    "StandardHours - количество часов в рабочей смене - числовое<br>\n",
    "StockOptionLevel - количество акций в компании - числовое<br>\n",
    "TotalWorkingYears - всего рабочих лет - числовое<br>\n",
    "TrainingTimesLastYear - количество тренировок в прошлом году? - числовое<br>\n",
    "YearsAtCompany - количество лет в компании - числовое<br>\n",
    "YearsSinceLastPromotion - количество лет с прошлого повышения - числовое<br>\n",
    "YearsWithCurrManager - количество лет с нынешним менеджером - числовое<br>\n",
    "Attrition - изнуренность/усталость - да/нет"
   ]
  },
  {
   "cell_type": "code",
   "execution_count": 109,
   "metadata": {},
   "outputs": [
    {
     "name": "stdout",
     "output_type": "stream",
     "text": [
      "<class 'pandas.core.frame.DataFrame'>\n",
      "RangeIndex: 2205 entries, 0 to 2204\n",
      "Data columns (total 21 columns):\n",
      "Unnamed: 0                 2205 non-null int64\n",
      "Age                        2205 non-null int64\n",
      "BusinessTravel             2205 non-null object\n",
      "Department                 2205 non-null object\n",
      "DistanceFromHome           2205 non-null int64\n",
      "Education                  2205 non-null int64\n",
      "EducationField             2205 non-null object\n",
      "Gender                     2205 non-null object\n",
      "JobRole                    2205 non-null object\n",
      "MaritalStatus              2205 non-null object\n",
      "MonthlyIncome              2205 non-null int64\n",
      "NumCompaniesWorked         2194 non-null float64\n",
      "PercentSalaryHike          2205 non-null int64\n",
      "StandardHours              2205 non-null int64\n",
      "StockOptionLevel           2205 non-null int64\n",
      "TotalWorkingYears          2199 non-null float64\n",
      "TrainingTimesLastYear      2205 non-null int64\n",
      "YearsAtCompany             2205 non-null int64\n",
      "YearsSinceLastPromotion    2205 non-null int64\n",
      "YearsWithCurrManager       2205 non-null int64\n",
      "Attrition                  2205 non-null int64\n",
      "dtypes: float64(2), int64(13), object(6)\n",
      "memory usage: 361.8+ KB\n"
     ]
    }
   ],
   "source": [
    "train.info()"
   ]
  },
  {
   "cell_type": "markdown",
   "metadata": {},
   "source": [
    "Всего 2205 строк данных. <br>\n",
    "Есть пропуски в параметрах NumCompaniesWorked и TotalWorkingYears, нужно заполнить значениями."
   ]
  },
  {
   "cell_type": "code",
   "execution_count": 110,
   "metadata": {},
   "outputs": [
    {
     "data": {
      "text/plain": [
       "Unnamed: 0                  1102.000000\n",
       "Age                           36.669841\n",
       "DistanceFromHome               9.409524\n",
       "Education                      2.895692\n",
       "MonthlyIncome              65151.972789\n",
       "NumCompaniesWorked             2.648587\n",
       "PercentSalaryHike             15.209524\n",
       "StandardHours                  8.000000\n",
       "StockOptionLevel               0.822222\n",
       "TotalWorkingYears             11.224193\n",
       "TrainingTimesLastYear          2.798186\n",
       "YearsAtCompany                 7.078005\n",
       "YearsSinceLastPromotion        2.225397\n",
       "YearsWithCurrManager           4.156463\n",
       "Attrition                      0.161451\n",
       "dtype: float64"
      ]
     },
     "execution_count": 110,
     "metadata": {},
     "output_type": "execute_result"
    }
   ],
   "source": [
    "#посмотрим на средние значения\n",
    "train_mean = train.mean()\n",
    "train_mean"
   ]
  },
  {
   "cell_type": "code",
   "execution_count": 111,
   "metadata": {},
   "outputs": [
    {
     "data": {
      "text/plain": [
       "Unnamed: 0                  1102.0\n",
       "Age                           35.0\n",
       "DistanceFromHome               7.0\n",
       "Education                      3.0\n",
       "MonthlyIncome              48770.0\n",
       "NumCompaniesWorked             2.0\n",
       "PercentSalaryHike             14.0\n",
       "StandardHours                  8.0\n",
       "StockOptionLevel               1.0\n",
       "TotalWorkingYears             10.0\n",
       "TrainingTimesLastYear          3.0\n",
       "YearsAtCompany                 5.0\n",
       "YearsSinceLastPromotion        1.0\n",
       "YearsWithCurrManager           3.0\n",
       "Attrition                      0.0\n",
       "dtype: float64"
      ]
     },
     "execution_count": 111,
     "metadata": {},
     "output_type": "execute_result"
    }
   ],
   "source": [
    "#посмотрим на медианы\n",
    "train_median = train.median()\n",
    "train_median"
   ]
  },
  {
   "cell_type": "markdown",
   "metadata": {},
   "source": [
    "Значения отличаются не сильно, но так как могут быть шумы, заменим на медианы."
   ]
  },
  {
   "cell_type": "code",
   "execution_count": 112,
   "metadata": {},
   "outputs": [
    {
     "data": {
      "text/plain": [
       "Unnamed: 0                 0\n",
       "Age                        0\n",
       "BusinessTravel             0\n",
       "Department                 0\n",
       "DistanceFromHome           0\n",
       "Education                  0\n",
       "EducationField             0\n",
       "Gender                     0\n",
       "JobRole                    0\n",
       "MaritalStatus              0\n",
       "MonthlyIncome              0\n",
       "NumCompaniesWorked         0\n",
       "PercentSalaryHike          0\n",
       "StandardHours              0\n",
       "StockOptionLevel           0\n",
       "TotalWorkingYears          0\n",
       "TrainingTimesLastYear      0\n",
       "YearsAtCompany             0\n",
       "YearsSinceLastPromotion    0\n",
       "YearsWithCurrManager       0\n",
       "Attrition                  0\n",
       "dtype: int64"
      ]
     },
     "execution_count": 112,
     "metadata": {},
     "output_type": "execute_result"
    }
   ],
   "source": [
    "train.fillna(train_median, inplace=True)\n",
    "train.isnull().sum()"
   ]
  },
  {
   "cell_type": "markdown",
   "metadata": {},
   "source": [
    "От пустых значений избавились. Приступим к шумам и выбросам."
   ]
  },
  {
   "cell_type": "code",
   "execution_count": 113,
   "metadata": {},
   "outputs": [
    {
     "data": {
      "text/html": [
       "<div>\n",
       "<style scoped>\n",
       "    .dataframe tbody tr th:only-of-type {\n",
       "        vertical-align: middle;\n",
       "    }\n",
       "\n",
       "    .dataframe tbody tr th {\n",
       "        vertical-align: top;\n",
       "    }\n",
       "\n",
       "    .dataframe thead th {\n",
       "        text-align: right;\n",
       "    }\n",
       "</style>\n",
       "<table border=\"1\" class=\"dataframe\">\n",
       "  <thead>\n",
       "    <tr style=\"text-align: right;\">\n",
       "      <th></th>\n",
       "      <th>Unnamed: 0</th>\n",
       "      <th>Age</th>\n",
       "      <th>DistanceFromHome</th>\n",
       "      <th>Education</th>\n",
       "      <th>MonthlyIncome</th>\n",
       "      <th>NumCompaniesWorked</th>\n",
       "      <th>PercentSalaryHike</th>\n",
       "      <th>StandardHours</th>\n",
       "      <th>StockOptionLevel</th>\n",
       "      <th>TotalWorkingYears</th>\n",
       "      <th>TrainingTimesLastYear</th>\n",
       "      <th>YearsAtCompany</th>\n",
       "      <th>YearsSinceLastPromotion</th>\n",
       "      <th>YearsWithCurrManager</th>\n",
       "      <th>Attrition</th>\n",
       "    </tr>\n",
       "  </thead>\n",
       "  <tbody>\n",
       "    <tr>\n",
       "      <th>count</th>\n",
       "      <td>2205.000000</td>\n",
       "      <td>2205.000000</td>\n",
       "      <td>2205.000000</td>\n",
       "      <td>2205.000000</td>\n",
       "      <td>2205.000000</td>\n",
       "      <td>2205.000000</td>\n",
       "      <td>2205.000000</td>\n",
       "      <td>2205.0</td>\n",
       "      <td>2205.000000</td>\n",
       "      <td>2205.000000</td>\n",
       "      <td>2205.000000</td>\n",
       "      <td>2205.000000</td>\n",
       "      <td>2205.000000</td>\n",
       "      <td>2205.000000</td>\n",
       "      <td>2205.000000</td>\n",
       "    </tr>\n",
       "    <tr>\n",
       "      <th>mean</th>\n",
       "      <td>1102.000000</td>\n",
       "      <td>36.669841</td>\n",
       "      <td>9.409524</td>\n",
       "      <td>2.895692</td>\n",
       "      <td>65151.972789</td>\n",
       "      <td>2.645351</td>\n",
       "      <td>15.209524</td>\n",
       "      <td>8.0</td>\n",
       "      <td>0.822222</td>\n",
       "      <td>11.220862</td>\n",
       "      <td>2.798186</td>\n",
       "      <td>7.078005</td>\n",
       "      <td>2.225397</td>\n",
       "      <td>4.156463</td>\n",
       "      <td>0.161451</td>\n",
       "    </tr>\n",
       "    <tr>\n",
       "      <th>std</th>\n",
       "      <td>636.672993</td>\n",
       "      <td>9.078445</td>\n",
       "      <td>8.134342</td>\n",
       "      <td>1.046125</td>\n",
       "      <td>47711.864224</td>\n",
       "      <td>2.485043</td>\n",
       "      <td>3.638322</td>\n",
       "      <td>0.0</td>\n",
       "      <td>0.874708</td>\n",
       "      <td>7.886428</td>\n",
       "      <td>1.313616</td>\n",
       "      <td>6.258446</td>\n",
       "      <td>3.312585</td>\n",
       "      <td>3.606622</td>\n",
       "      <td>0.368030</td>\n",
       "    </tr>\n",
       "    <tr>\n",
       "      <th>min</th>\n",
       "      <td>0.000000</td>\n",
       "      <td>18.000000</td>\n",
       "      <td>1.000000</td>\n",
       "      <td>1.000000</td>\n",
       "      <td>10510.000000</td>\n",
       "      <td>0.000000</td>\n",
       "      <td>11.000000</td>\n",
       "      <td>8.0</td>\n",
       "      <td>0.000000</td>\n",
       "      <td>0.000000</td>\n",
       "      <td>0.000000</td>\n",
       "      <td>0.000000</td>\n",
       "      <td>0.000000</td>\n",
       "      <td>0.000000</td>\n",
       "      <td>0.000000</td>\n",
       "    </tr>\n",
       "    <tr>\n",
       "      <th>25%</th>\n",
       "      <td>551.000000</td>\n",
       "      <td>30.000000</td>\n",
       "      <td>2.000000</td>\n",
       "      <td>2.000000</td>\n",
       "      <td>28750.000000</td>\n",
       "      <td>1.000000</td>\n",
       "      <td>12.000000</td>\n",
       "      <td>8.0</td>\n",
       "      <td>0.000000</td>\n",
       "      <td>6.000000</td>\n",
       "      <td>2.000000</td>\n",
       "      <td>3.000000</td>\n",
       "      <td>0.000000</td>\n",
       "      <td>2.000000</td>\n",
       "      <td>0.000000</td>\n",
       "    </tr>\n",
       "    <tr>\n",
       "      <th>50%</th>\n",
       "      <td>1102.000000</td>\n",
       "      <td>35.000000</td>\n",
       "      <td>7.000000</td>\n",
       "      <td>3.000000</td>\n",
       "      <td>48770.000000</td>\n",
       "      <td>2.000000</td>\n",
       "      <td>14.000000</td>\n",
       "      <td>8.0</td>\n",
       "      <td>1.000000</td>\n",
       "      <td>10.000000</td>\n",
       "      <td>3.000000</td>\n",
       "      <td>5.000000</td>\n",
       "      <td>1.000000</td>\n",
       "      <td>3.000000</td>\n",
       "      <td>0.000000</td>\n",
       "    </tr>\n",
       "    <tr>\n",
       "      <th>75%</th>\n",
       "      <td>1653.000000</td>\n",
       "      <td>42.000000</td>\n",
       "      <td>15.000000</td>\n",
       "      <td>4.000000</td>\n",
       "      <td>83460.000000</td>\n",
       "      <td>4.000000</td>\n",
       "      <td>18.000000</td>\n",
       "      <td>8.0</td>\n",
       "      <td>1.000000</td>\n",
       "      <td>15.000000</td>\n",
       "      <td>3.000000</td>\n",
       "      <td>10.000000</td>\n",
       "      <td>3.000000</td>\n",
       "      <td>7.000000</td>\n",
       "      <td>0.000000</td>\n",
       "    </tr>\n",
       "    <tr>\n",
       "      <th>max</th>\n",
       "      <td>2204.000000</td>\n",
       "      <td>60.000000</td>\n",
       "      <td>29.000000</td>\n",
       "      <td>5.000000</td>\n",
       "      <td>199990.000000</td>\n",
       "      <td>9.000000</td>\n",
       "      <td>25.000000</td>\n",
       "      <td>8.0</td>\n",
       "      <td>3.000000</td>\n",
       "      <td>40.000000</td>\n",
       "      <td>6.000000</td>\n",
       "      <td>40.000000</td>\n",
       "      <td>15.000000</td>\n",
       "      <td>17.000000</td>\n",
       "      <td>1.000000</td>\n",
       "    </tr>\n",
       "  </tbody>\n",
       "</table>\n",
       "</div>"
      ],
      "text/plain": [
       "        Unnamed: 0          Age  DistanceFromHome    Education  MonthlyIncome  \\\n",
       "count  2205.000000  2205.000000       2205.000000  2205.000000    2205.000000   \n",
       "mean   1102.000000    36.669841          9.409524     2.895692   65151.972789   \n",
       "std     636.672993     9.078445          8.134342     1.046125   47711.864224   \n",
       "min       0.000000    18.000000          1.000000     1.000000   10510.000000   \n",
       "25%     551.000000    30.000000          2.000000     2.000000   28750.000000   \n",
       "50%    1102.000000    35.000000          7.000000     3.000000   48770.000000   \n",
       "75%    1653.000000    42.000000         15.000000     4.000000   83460.000000   \n",
       "max    2204.000000    60.000000         29.000000     5.000000  199990.000000   \n",
       "\n",
       "       NumCompaniesWorked  PercentSalaryHike  StandardHours  StockOptionLevel  \\\n",
       "count         2205.000000        2205.000000         2205.0       2205.000000   \n",
       "mean             2.645351          15.209524            8.0          0.822222   \n",
       "std              2.485043           3.638322            0.0          0.874708   \n",
       "min              0.000000          11.000000            8.0          0.000000   \n",
       "25%              1.000000          12.000000            8.0          0.000000   \n",
       "50%              2.000000          14.000000            8.0          1.000000   \n",
       "75%              4.000000          18.000000            8.0          1.000000   \n",
       "max              9.000000          25.000000            8.0          3.000000   \n",
       "\n",
       "       TotalWorkingYears  TrainingTimesLastYear  YearsAtCompany  \\\n",
       "count        2205.000000            2205.000000     2205.000000   \n",
       "mean           11.220862               2.798186        7.078005   \n",
       "std             7.886428               1.313616        6.258446   \n",
       "min             0.000000               0.000000        0.000000   \n",
       "25%             6.000000               2.000000        3.000000   \n",
       "50%            10.000000               3.000000        5.000000   \n",
       "75%            15.000000               3.000000       10.000000   \n",
       "max            40.000000               6.000000       40.000000   \n",
       "\n",
       "       YearsSinceLastPromotion  YearsWithCurrManager    Attrition  \n",
       "count              2205.000000           2205.000000  2205.000000  \n",
       "mean                  2.225397              4.156463     0.161451  \n",
       "std                   3.312585              3.606622     0.368030  \n",
       "min                   0.000000              0.000000     0.000000  \n",
       "25%                   0.000000              2.000000     0.000000  \n",
       "50%                   1.000000              3.000000     0.000000  \n",
       "75%                   3.000000              7.000000     0.000000  \n",
       "max                  15.000000             17.000000     1.000000  "
      ]
     },
     "execution_count": 113,
     "metadata": {},
     "output_type": "execute_result"
    }
   ],
   "source": [
    "train.describe()"
   ]
  },
  {
   "cell_type": "markdown",
   "metadata": {},
   "source": [
    "На первый взгдяд выбросов нет, нет неправдоподобных минимальных и максимальных значений. Проверим более детально."
   ]
  },
  {
   "cell_type": "code",
   "execution_count": 114,
   "metadata": {},
   "outputs": [
    {
     "data": {
      "image/png": "[encoded data removed]",
      "text/plain": [
       "<Figure size 2160x2160 with 6 Axes>"
      ]
     },
     "metadata": {
      "needs_background": "light"
     },
     "output_type": "display_data"
    }
   ],
   "source": [
    "cat_columns = ['BusinessTravel','Department', 'EducationField', 'Gender', 'JobRole','MaritalStatus']\n",
    "fig, axs = plt.subplots(2, 3, sharex=False, sharey=False, figsize=(30, 30))\n",
    "plt.suptitle('Категориальные переменные', fontsize = 25)\n",
    "counter = 0\n",
    "colors = '#003100'\n",
    "for cat_column in cat_columns:\n",
    "    value_counts = train[cat_column].value_counts()\n",
    "    \n",
    "    trace_x = counter // 3\n",
    "    trace_y = counter % 3\n",
    "    x_pos = np.arange(0, len(value_counts))\n",
    "    \n",
    "    axs[trace_x, trace_y].bar(x_pos, value_counts.values, tick_label = value_counts.index, color = colors)\n",
    "    axs[trace_x, trace_y].set_title(cat_column)\n",
    "    \n",
    "    for tick in axs[trace_x, trace_y].get_xticklabels():\n",
    "        tick.set_rotation(90)\n",
    "    \n",
    "    counter += 1\n",
    "\n",
    "plt.show()"
   ]
  },
  {
   "cell_type": "markdown",
   "metadata": {},
   "source": [
    "Выбросов и аномалий выявлено не было, теперь посмотрим числовые предикторы."
   ]
  },
  {
   "cell_type": "code",
   "execution_count": 115,
   "metadata": {},
   "outputs": [
    {
     "data": {
      "image/png": "[encoded data removed]",
      "text/plain": [
       "<Figure size 2160x2160 with 15 Axes>"
      ]
     },
     "metadata": {
      "needs_background": "light"
     },
     "output_type": "display_data"
    }
   ],
   "source": [
    "num_columns = ['Age', 'DistanceFromHome', 'Education', 'MonthlyIncome', 'NumCompaniesWorked', 'PercentSalaryHike','StandardHours', 'StockOptionLevel', 'TotalWorkingYears', 'TrainingTimesLastYear', 'YearsAtCompany','YearsSinceLastPromotion','YearsWithCurrManager','Attrition']\n",
    "fig, axs = plt.subplots(5, 3, sharex=False, sharey=False, figsize=(30, 30))\n",
    "plt.suptitle('Числовые переменные', fontsize = 25)\n",
    "colors = '#000031'\n",
    "counter = 0\n",
    "for num_column in num_columns:\n",
    "    \n",
    "    trace_x = counter // 3\n",
    "    trace_y = counter % 3\n",
    "    \n",
    "    axs[trace_x, trace_y].hist(train[num_column], color = colors)\n",
    "    axs[trace_x, trace_y].set_title(num_column)\n",
    "    \n",
    "    counter += 1\n",
    "\n",
    "plt.show()"
   ]
  },
  {
   "cell_type": "markdown",
   "metadata": {},
   "source": [
    "Выбросов не вижу, но можно будет позже попробовать PCA.<br>\n",
    "Поле StandardHours всегда равен 8, поэтому его можно удалить."
   ]
  },
  {
   "cell_type": "code",
   "execution_count": 116,
   "metadata": {},
   "outputs": [],
   "source": [
    "train = train.drop(columns = ['StandardHours'])"
   ]
  },
  {
   "cell_type": "code",
   "execution_count": 117,
   "metadata": {},
   "outputs": [
    {
     "data": {
      "text/plain": [
       "0    1849\n",
       "1     356\n",
       "Name: Attrition, dtype: int64"
      ]
     },
     "execution_count": 117,
     "metadata": {},
     "output_type": "execute_result"
    }
   ],
   "source": [
    "#посмотрим на целевую переменную\n",
    "train['Attrition'].value_counts()"
   ]
  },
  {
   "cell_type": "markdown",
   "metadata": {},
   "source": [
    "Целевая переменная не сбалансирована, то есть если наша модели всегда будет предсказывать 0, то верность прогноза будет около 80%. Это надо обработать."
   ]
  },
  {
   "cell_type": "code",
   "execution_count": 118,
   "metadata": {},
   "outputs": [],
   "source": [
    "target_variable_name = 'Attrition'\n",
    "training_values = train[target_variable_name]\n",
    "\n",
    "training_points = train.drop(target_variable_name, axis=1)"
   ]
  },
  {
   "cell_type": "markdown",
   "metadata": {},
   "source": [
    "Попробуем из категориальных признаков сделать числовые"
   ]
  },
  {
   "cell_type": "code",
   "execution_count": 119,
   "metadata": {},
   "outputs": [],
   "source": [
    "def show_unique(df):\n",
    "    unique = {}\n",
    "    \n",
    "    for col in df.columns:\n",
    "        values = np.sort(df[col].unique())\n",
    "        unique[col] = [len(values), values]\n",
    "    \n",
    "    for col in unique:\n",
    "        print('Column {} has {} unique values: {} \\n'.format(col, unique[col][0], unique[col][1]))"
   ]
  },
  {
   "cell_type": "code",
   "execution_count": 120,
   "metadata": {},
   "outputs": [
    {
     "name": "stdout",
     "output_type": "stream",
     "text": [
      "Column Unnamed: 0 has 2205 unique values: [   0    1    2 ... 2202 2203 2204] \n",
      "\n",
      "Column Age has 43 unique values: [18 19 20 21 22 23 24 25 26 27 28 29 30 31 32 33 34 35 36 37 38 39 40 41\n",
      " 42 43 44 45 46 47 48 49 50 51 52 53 54 55 56 57 58 59 60] \n",
      "\n",
      "Column BusinessTravel has 3 unique values: ['Non-Travel' 'Travel_Frequently' 'Travel_Rarely'] \n",
      "\n",
      "Column Department has 3 unique values: ['Human Resources' 'Research & Development' 'Sales'] \n",
      "\n",
      "Column DistanceFromHome has 29 unique values: [ 1  2  3  4  5  6  7  8  9 10 11 12 13 14 15 16 17 18 19 20 21 22 23 24\n",
      " 25 26 27 28 29] \n",
      "\n",
      "Column Education has 5 unique values: [1 2 3 4 5] \n",
      "\n",
      "Column EducationField has 6 unique values: ['Human Resources' 'Life Sciences' 'Marketing' 'Medical' 'Other'\n",
      " 'Technical Degree'] \n",
      "\n",
      "Column Gender has 2 unique values: ['Female' 'Male'] \n",
      "\n",
      "Column JobRole has 9 unique values: ['Healthcare Representative' 'Human Resources' 'Laboratory Technician'\n",
      " 'Manager' 'Manufacturing Director' 'Research Director'\n",
      " 'Research Scientist' 'Sales Executive' 'Sales Representative'] \n",
      "\n",
      "Column MaritalStatus has 3 unique values: ['Divorced' 'Married' 'Single'] \n",
      "\n",
      "Column MonthlyIncome has 1192 unique values: [ 10510  10520  10810 ... 199260 199430 199990] \n",
      "\n",
      "Column NumCompaniesWorked has 10 unique values: [0. 1. 2. 3. 4. 5. 6. 7. 8. 9.] \n",
      "\n",
      "Column PercentSalaryHike has 15 unique values: [11 12 13 14 15 16 17 18 19 20 21 22 23 24 25] \n",
      "\n",
      "Column StockOptionLevel has 4 unique values: [0 1 2 3] \n",
      "\n",
      "Column TotalWorkingYears has 40 unique values: [ 0.  1.  2.  3.  4.  5.  6.  7.  8.  9. 10. 11. 12. 13. 14. 15. 16. 17.\n",
      " 18. 19. 20. 21. 22. 23. 24. 25. 26. 27. 28. 29. 30. 31. 32. 33. 34. 35.\n",
      " 36. 37. 38. 40.] \n",
      "\n",
      "Column TrainingTimesLastYear has 7 unique values: [0 1 2 3 4 5 6] \n",
      "\n",
      "Column YearsAtCompany has 37 unique values: [ 0  1  2  3  4  5  6  7  8  9 10 11 12 13 14 15 16 17 18 19 20 21 22 23\n",
      " 24 25 26 27 29 30 31 32 33 34 36 37 40] \n",
      "\n",
      "Column YearsSinceLastPromotion has 16 unique values: [ 0  1  2  3  4  5  6  7  8  9 10 11 12 13 14 15] \n",
      "\n",
      "Column YearsWithCurrManager has 18 unique values: [ 0  1  2  3  4  5  6  7  8  9 10 11 12 13 14 15 16 17] \n",
      "\n",
      "Column Attrition has 2 unique values: [0 1] \n",
      "\n"
     ]
    }
   ],
   "source": [
    "show_unique(train)"
   ]
  },
  {
   "cell_type": "markdown",
   "metadata": {},
   "source": [
    "Можем закодировать поля BusinessTravel"
   ]
  },
  {
   "cell_type": "code",
   "execution_count": 121,
   "metadata": {},
   "outputs": [],
   "source": [
    "BusinessTravel_map = {\n",
    "    'Non-Travel': 0,\n",
    "    'Travel_Rarely': 1,\n",
    "    'Travel_Frequently': 2\n",
    "}\n",
    "training_points['BusinessTravel'] = training_points['BusinessTravel'].map(BusinessTravel_map)"
   ]
  },
  {
   "cell_type": "markdown",
   "metadata": {},
   "source": [
    "Приступим к тестовой выборке."
   ]
  },
  {
   "cell_type": "code",
   "execution_count": 122,
   "metadata": {},
   "outputs": [
    {
     "data": {
      "text/html": [
       "<div>\n",
       "<style scoped>\n",
       "    .dataframe tbody tr th:only-of-type {\n",
       "        vertical-align: middle;\n",
       "    }\n",
       "\n",
       "    .dataframe tbody tr th {\n",
       "        vertical-align: top;\n",
       "    }\n",
       "\n",
       "    .dataframe thead th {\n",
       "        text-align: right;\n",
       "    }\n",
       "</style>\n",
       "<table border=\"1\" class=\"dataframe\">\n",
       "  <thead>\n",
       "    <tr style=\"text-align: right;\">\n",
       "      <th></th>\n",
       "      <th>Unnamed: 0</th>\n",
       "      <th>index</th>\n",
       "      <th>Age</th>\n",
       "      <th>DistanceFromHome</th>\n",
       "      <th>Education</th>\n",
       "      <th>MonthlyIncome</th>\n",
       "      <th>NumCompaniesWorked</th>\n",
       "      <th>PercentSalaryHike</th>\n",
       "      <th>StandardHours</th>\n",
       "      <th>StockOptionLevel</th>\n",
       "      <th>TotalWorkingYears</th>\n",
       "      <th>TrainingTimesLastYear</th>\n",
       "      <th>YearsAtCompany</th>\n",
       "      <th>YearsSinceLastPromotion</th>\n",
       "      <th>YearsWithCurrManager</th>\n",
       "    </tr>\n",
       "  </thead>\n",
       "  <tbody>\n",
       "    <tr>\n",
       "      <th>count</th>\n",
       "      <td>2205.000000</td>\n",
       "      <td>2205.000000</td>\n",
       "      <td>2205.000000</td>\n",
       "      <td>2205.000000</td>\n",
       "      <td>2205.000000</td>\n",
       "      <td>2205.000000</td>\n",
       "      <td>2197.000000</td>\n",
       "      <td>2205.000000</td>\n",
       "      <td>2205.0</td>\n",
       "      <td>2205.000000</td>\n",
       "      <td>2202.000000</td>\n",
       "      <td>2205.000000</td>\n",
       "      <td>2205.000000</td>\n",
       "      <td>2205.000000</td>\n",
       "      <td>2205.000000</td>\n",
       "    </tr>\n",
       "    <tr>\n",
       "      <th>mean</th>\n",
       "      <td>1102.000000</td>\n",
       "      <td>1102.000000</td>\n",
       "      <td>37.177778</td>\n",
       "      <td>8.975510</td>\n",
       "      <td>2.930159</td>\n",
       "      <td>64906.653061</td>\n",
       "      <td>2.741010</td>\n",
       "      <td>15.209524</td>\n",
       "      <td>8.0</td>\n",
       "      <td>0.765533</td>\n",
       "      <td>11.335604</td>\n",
       "      <td>2.800454</td>\n",
       "      <td>6.938322</td>\n",
       "      <td>2.150113</td>\n",
       "      <td>4.089796</td>\n",
       "    </tr>\n",
       "    <tr>\n",
       "      <th>std</th>\n",
       "      <td>636.672993</td>\n",
       "      <td>636.672993</td>\n",
       "      <td>9.182865</td>\n",
       "      <td>8.071613</td>\n",
       "      <td>1.001189</td>\n",
       "      <td>46427.509701</td>\n",
       "      <td>2.506606</td>\n",
       "      <td>3.680601</td>\n",
       "      <td>0.0</td>\n",
       "      <td>0.827658</td>\n",
       "      <td>7.667351</td>\n",
       "      <td>1.264157</td>\n",
       "      <td>5.989465</td>\n",
       "      <td>3.128474</td>\n",
       "      <td>3.528097</td>\n",
       "    </tr>\n",
       "    <tr>\n",
       "      <th>min</th>\n",
       "      <td>0.000000</td>\n",
       "      <td>0.000000</td>\n",
       "      <td>18.000000</td>\n",
       "      <td>1.000000</td>\n",
       "      <td>1.000000</td>\n",
       "      <td>10090.000000</td>\n",
       "      <td>0.000000</td>\n",
       "      <td>11.000000</td>\n",
       "      <td>8.0</td>\n",
       "      <td>0.000000</td>\n",
       "      <td>0.000000</td>\n",
       "      <td>0.000000</td>\n",
       "      <td>0.000000</td>\n",
       "      <td>0.000000</td>\n",
       "      <td>0.000000</td>\n",
       "    </tr>\n",
       "    <tr>\n",
       "      <th>25%</th>\n",
       "      <td>551.000000</td>\n",
       "      <td>551.000000</td>\n",
       "      <td>30.000000</td>\n",
       "      <td>2.000000</td>\n",
       "      <td>2.000000</td>\n",
       "      <td>29360.000000</td>\n",
       "      <td>1.000000</td>\n",
       "      <td>12.000000</td>\n",
       "      <td>8.0</td>\n",
       "      <td>0.000000</td>\n",
       "      <td>6.000000</td>\n",
       "      <td>2.000000</td>\n",
       "      <td>3.000000</td>\n",
       "      <td>0.000000</td>\n",
       "      <td>2.000000</td>\n",
       "    </tr>\n",
       "    <tr>\n",
       "      <th>50%</th>\n",
       "      <td>1102.000000</td>\n",
       "      <td>1102.000000</td>\n",
       "      <td>36.000000</td>\n",
       "      <td>7.000000</td>\n",
       "      <td>3.000000</td>\n",
       "      <td>49600.000000</td>\n",
       "      <td>2.000000</td>\n",
       "      <td>14.000000</td>\n",
       "      <td>8.0</td>\n",
       "      <td>1.000000</td>\n",
       "      <td>10.000000</td>\n",
       "      <td>3.000000</td>\n",
       "      <td>5.000000</td>\n",
       "      <td>1.000000</td>\n",
       "      <td>3.000000</td>\n",
       "    </tr>\n",
       "    <tr>\n",
       "      <th>75%</th>\n",
       "      <td>1653.000000</td>\n",
       "      <td>1653.000000</td>\n",
       "      <td>43.000000</td>\n",
       "      <td>13.000000</td>\n",
       "      <td>4.000000</td>\n",
       "      <td>83800.000000</td>\n",
       "      <td>4.000000</td>\n",
       "      <td>18.000000</td>\n",
       "      <td>8.0</td>\n",
       "      <td>1.000000</td>\n",
       "      <td>15.000000</td>\n",
       "      <td>3.000000</td>\n",
       "      <td>9.000000</td>\n",
       "      <td>3.000000</td>\n",
       "      <td>7.000000</td>\n",
       "    </tr>\n",
       "    <tr>\n",
       "      <th>max</th>\n",
       "      <td>2204.000000</td>\n",
       "      <td>2204.000000</td>\n",
       "      <td>60.000000</td>\n",
       "      <td>29.000000</td>\n",
       "      <td>5.000000</td>\n",
       "      <td>199990.000000</td>\n",
       "      <td>9.000000</td>\n",
       "      <td>25.000000</td>\n",
       "      <td>8.0</td>\n",
       "      <td>3.000000</td>\n",
       "      <td>40.000000</td>\n",
       "      <td>6.000000</td>\n",
       "      <td>40.000000</td>\n",
       "      <td>15.000000</td>\n",
       "      <td>17.000000</td>\n",
       "    </tr>\n",
       "  </tbody>\n",
       "</table>\n",
       "</div>"
      ],
      "text/plain": [
       "        Unnamed: 0        index          Age  DistanceFromHome    Education  \\\n",
       "count  2205.000000  2205.000000  2205.000000       2205.000000  2205.000000   \n",
       "mean   1102.000000  1102.000000    37.177778          8.975510     2.930159   \n",
       "std     636.672993   636.672993     9.182865          8.071613     1.001189   \n",
       "min       0.000000     0.000000    18.000000          1.000000     1.000000   \n",
       "25%     551.000000   551.000000    30.000000          2.000000     2.000000   \n",
       "50%    1102.000000  1102.000000    36.000000          7.000000     3.000000   \n",
       "75%    1653.000000  1653.000000    43.000000         13.000000     4.000000   \n",
       "max    2204.000000  2204.000000    60.000000         29.000000     5.000000   \n",
       "\n",
       "       MonthlyIncome  NumCompaniesWorked  PercentSalaryHike  StandardHours  \\\n",
       "count    2205.000000         2197.000000        2205.000000         2205.0   \n",
       "mean    64906.653061            2.741010          15.209524            8.0   \n",
       "std     46427.509701            2.506606           3.680601            0.0   \n",
       "min     10090.000000            0.000000          11.000000            8.0   \n",
       "25%     29360.000000            1.000000          12.000000            8.0   \n",
       "50%     49600.000000            2.000000          14.000000            8.0   \n",
       "75%     83800.000000            4.000000          18.000000            8.0   \n",
       "max    199990.000000            9.000000          25.000000            8.0   \n",
       "\n",
       "       StockOptionLevel  TotalWorkingYears  TrainingTimesLastYear  \\\n",
       "count       2205.000000        2202.000000            2205.000000   \n",
       "mean           0.765533          11.335604               2.800454   \n",
       "std            0.827658           7.667351               1.264157   \n",
       "min            0.000000           0.000000               0.000000   \n",
       "25%            0.000000           6.000000               2.000000   \n",
       "50%            1.000000          10.000000               3.000000   \n",
       "75%            1.000000          15.000000               3.000000   \n",
       "max            3.000000          40.000000               6.000000   \n",
       "\n",
       "       YearsAtCompany  YearsSinceLastPromotion  YearsWithCurrManager  \n",
       "count     2205.000000              2205.000000           2205.000000  \n",
       "mean         6.938322                 2.150113              4.089796  \n",
       "std          5.989465                 3.128474              3.528097  \n",
       "min          0.000000                 0.000000              0.000000  \n",
       "25%          3.000000                 0.000000              2.000000  \n",
       "50%          5.000000                 1.000000              3.000000  \n",
       "75%          9.000000                 3.000000              7.000000  \n",
       "max         40.000000                15.000000             17.000000  "
      ]
     },
     "execution_count": 122,
     "metadata": {},
     "output_type": "execute_result"
    }
   ],
   "source": [
    "test.describe()"
   ]
  },
  {
   "cell_type": "code",
   "execution_count": 123,
   "metadata": {},
   "outputs": [],
   "source": [
    "test = test.drop(columns = ['StandardHours'])\n",
    "test['BusinessTravel'] = test['BusinessTravel'].map(BusinessTravel_map)"
   ]
  },
  {
   "cell_type": "code",
   "execution_count": 124,
   "metadata": {},
   "outputs": [],
   "source": [
    "test.fillna(train_median, inplace=True)"
   ]
  },
  {
   "cell_type": "markdown",
   "metadata": {},
   "source": [
    "В тестовых данных есть лишний столбец id, которого нет в обучающей выборке. Прежде чем применять модель на тестовой выборке, необходимо убрать его. "
   ]
  },
  {
   "cell_type": "code",
   "execution_count": 125,
   "metadata": {},
   "outputs": [],
   "source": [
    "id_variable_name = 'index'\n",
    "ids = test[id_variable_name] # записываем столбец id в отдельную переменную\n",
    "test_points = test.drop(id_variable_name, axis=1) # удаляем его из тестовой выборки "
   ]
  },
  {
   "cell_type": "code",
   "execution_count": 127,
   "metadata": {},
   "outputs": [],
   "source": [
    "#кодируем текстовые \n",
    "from sklearn.preprocessing import LabelEncoder,OneHotEncoder\n",
    "\n",
    "text_features = ['Department', 'EducationField', 'Gender', 'JobRole', 'MaritalStatus']\n",
    "label_encoder = LabelEncoder()\n",
    "for col in text_features:\n",
    "    training_points[col] = label_encoder.fit_transform(train[col]) + 1\n",
    "    test_points[col] = label_encoder.transform(test_points[col]) + 1"
   ]
  },
  {
   "cell_type": "markdown",
   "metadata": {},
   "source": [
    "Переходим к обучению модели на коробочных решениях."
   ]
  },
  {
   "cell_type": "code",
   "execution_count": 129,
   "metadata": {},
   "outputs": [
    {
     "data": {
      "text/plain": [
       "XGBClassifier(base_score=0.5, booster='gbtree', colsample_bylevel=1,\n",
       "              colsample_bynode=1, colsample_bytree=1, gamma=0,\n",
       "              learning_rate=0.08, max_delta_step=0, max_depth=8,\n",
       "              min_child_weight=1, missing=None, n_estimators=100, n_jobs=1,\n",
       "              nthread=None, objective='binary:logistic', random_state=0,\n",
       "              reg_alpha=0, reg_lambda=1, scale_pos_weight=1, seed=None,\n",
       "              silent=None, subsample=0.75, verbosity=1)"
      ]
     },
     "execution_count": 129,
     "metadata": {},
     "output_type": "execute_result"
    }
   ],
   "source": [
    "import xgboost as xgb\n",
    "\n",
    "#тренируем модель\n",
    "xgb = xgb.XGBClassifier(n_estimators=100, learning_rate=0.08, gamma=0, subsample=0.75,\n",
    "                           colsample_bytree=1, max_depth=8)\n",
    "\n",
    "xgb.fit(training_points, training_values)"
   ]
  },
  {
   "cell_type": "code",
   "execution_count": 130,
   "metadata": {},
   "outputs": [
    {
     "data": {
      "text/plain": [
       "array([0.8290485 , 0.30465826, 0.83334595, ..., 0.0026802 , 0.01028071,\n",
       "       0.01087547], dtype=float32)"
      ]
     },
     "execution_count": 130,
     "metadata": {},
     "output_type": "execute_result"
    }
   ],
   "source": [
    "from sklearn.model_selection import cross_val_predict\n",
    "cross_validation_predictions = cross_val_predict(xgboost_model, training_points, training_values, \n",
    "                                                 cv=5, method='predict_proba')\n",
    "cross_validation_predictions = cross_validation_predictions[:, 1] # нам нужны вероятности для второго класса\n",
    "cross_validation_predictions"
   ]
  },
  {
   "cell_type": "code",
   "execution_count": 131,
   "metadata": {},
   "outputs": [],
   "source": [
    "from sklearn.metrics import average_precision_score # площадь под precision recall кривой"
   ]
  },
  {
   "cell_type": "code",
   "execution_count": 132,
   "metadata": {},
   "outputs": [
    {
     "data": {
      "text/plain": [
       "0.3062947493896248"
      ]
     },
     "execution_count": 132,
     "metadata": {},
     "output_type": "execute_result"
    }
   ],
   "source": [
    "average_precision_score (training_values, cross_validation_predictions) "
   ]
  },
  {
   "cell_type": "code",
   "execution_count": 133,
   "metadata": {},
   "outputs": [],
   "source": [
    "test_predictions = xgb.predict_proba(test_points)[:, 1]"
   ]
  },
  {
   "cell_type": "code",
   "execution_count": 134,
   "metadata": {},
   "outputs": [],
   "source": [
    "result = pd.DataFrame(columns=['index', 'Attrition'])"
   ]
  },
  {
   "cell_type": "code",
   "execution_count": 135,
   "metadata": {},
   "outputs": [],
   "source": [
    "result['index'] = ids\n",
    "result['Attrition'] = test_predictions"
   ]
  },
  {
   "cell_type": "code",
   "execution_count": 136,
   "metadata": {},
   "outputs": [],
   "source": [
    "result.to_csv('result.csv', index=False)"
   ]
  },
  {
   "cell_type": "markdown",
   "metadata": {},
   "source": [
    "Получилась 30%(("
   ]
  }
 ],
 "metadata": {
  "kernelspec": {
   "display_name": "Python 3",
   "language": "python",
   "name": "python3"
  },
  "language_info": {
   "codemirror_mode": {
    "name": "ipython",
    "version": 3
   },
   "file_extension": ".py",
   "mimetype": "text/x-python",
   "name": "python",
   "nbconvert_exporter": "python",
   "pygments_lexer": "ipython3",
   "version": "3.7.3"
  }
 },
 "nbformat": 4,
 "nbformat_minor": 2
}
